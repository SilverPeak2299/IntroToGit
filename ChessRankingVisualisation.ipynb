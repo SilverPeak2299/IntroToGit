{
 "cells": [
  {
   "cell_type": "markdown",
   "id": "5459a51f",
   "metadata": {},
   "source": [
    "# Introduction to Juypiter Notebook through the use of Data Visualisation\n",
    "\n",
    "Using a Chess Ranking Dataset"
   ]
  },
  {
   "cell_type": "code",
   "execution_count": 2,
   "metadata": {},
   "outputs": [],
   "source": [
    "# Allows us to read dataset into memory and manipluate it\n",
    "import pandas as pd\n",
    "\n",
    "# Data Visualisation\n",
    "import matplotlib.pyplot as plt\n",
    "%matplotlib inline"
   ]
  },
  {
   "cell_type": "markdown",
   "id": "6d0c8073",
   "metadata": {},
   "source": [
    "Reading and showing the head of the dataframe to give us an understanding of what it looks like"
   ]
  },
  {
   "cell_type": "code",
   "execution_count": 6,
   "id": "785d6e3b",
   "metadata": {},
   "outputs": [
    {
     "data": {
      "text/html": [
       "<div>\n",
       "<style scoped>\n",
       "    .dataframe tbody tr th:only-of-type {\n",
       "        vertical-align: middle;\n",
       "    }\n",
       "\n",
       "    .dataframe tbody tr th {\n",
       "        vertical-align: top;\n",
       "    }\n",
       "\n",
       "    .dataframe thead th {\n",
       "        text-align: right;\n",
       "    }\n",
       "</style>\n",
       "<table border=\"1\" class=\"dataframe\">\n",
       "  <thead>\n",
       "    <tr style=\"text-align: right;\">\n",
       "      <th></th>\n",
       "      <th>rank</th>\n",
       "      <th>name</th>\n",
       "      <th>ELO</th>\n",
       "      <th>title</th>\n",
       "      <th>federation</th>\n",
       "      <th>games</th>\n",
       "      <th>birth_year</th>\n",
       "    </tr>\n",
       "  </thead>\n",
       "  <tbody>\n",
       "    <tr>\n",
       "      <th>0</th>\n",
       "      <td>1</td>\n",
       "      <td>Magnus Carlsen</td>\n",
       "      <td>2864</td>\n",
       "      <td>GM</td>\n",
       "      <td>Norway</td>\n",
       "      <td>3125</td>\n",
       "      <td>1990</td>\n",
       "    </tr>\n",
       "    <tr>\n",
       "      <th>1</th>\n",
       "      <td>2</td>\n",
       "      <td>Liren Ding</td>\n",
       "      <td>2806</td>\n",
       "      <td>GM</td>\n",
       "      <td>China</td>\n",
       "      <td>1630</td>\n",
       "      <td>1992</td>\n",
       "    </tr>\n",
       "    <tr>\n",
       "      <th>2</th>\n",
       "      <td>3</td>\n",
       "      <td>Alireza Firouzja</td>\n",
       "      <td>2793</td>\n",
       "      <td>GM</td>\n",
       "      <td>France</td>\n",
       "      <td>845</td>\n",
       "      <td>2003</td>\n",
       "    </tr>\n",
       "    <tr>\n",
       "      <th>3</th>\n",
       "      <td>4</td>\n",
       "      <td>Fabiano Caruana</td>\n",
       "      <td>2783</td>\n",
       "      <td>GM</td>\n",
       "      <td>United States</td>\n",
       "      <td>2622</td>\n",
       "      <td>1992</td>\n",
       "    </tr>\n",
       "    <tr>\n",
       "      <th>4</th>\n",
       "      <td>5</td>\n",
       "      <td>Levon Aronian</td>\n",
       "      <td>2775</td>\n",
       "      <td>GM</td>\n",
       "      <td>United States</td>\n",
       "      <td>3320</td>\n",
       "      <td>1982</td>\n",
       "    </tr>\n",
       "  </tbody>\n",
       "</table>\n",
       "</div>"
      ],
      "text/plain": [
       "   rank               name   ELO  title     federation   games  birth_year\n",
       "0      1    Magnus Carlsen   2864    GM         Norway    3125        1990\n",
       "1      2        Liren Ding   2806    GM          China    1630        1992\n",
       "2      3  Alireza Firouzja   2793    GM         France     845        2003\n",
       "3      4    Fabiano Caruana  2783    GM  United States    2622        1992\n",
       "4      5     Levon Aronian   2775    GM  United States    3320        1982"
      ]
     },
     "execution_count": 6,
     "metadata": {},
     "output_type": "execute_result"
    }
   ],
   "source": [
    "df = pd.read_csv(\"Chess FIDE Rankings.csv\")\n",
    "df.head()"
   ]
  },
  {
   "cell_type": "markdown",
   "id": "7a4013e6",
   "metadata": {},
   "source": [
    "#### Histogram plot of federation \n",
    "There are too many federation to plot them all so will find the top 12 federations and plot them"
   ]
  },
  {
   "cell_type": "code",
   "execution_count": 61,
   "id": "6af21b5a",
   "metadata": {},
   "outputs": [
    {
     "data": {
      "text/plain": [
       "['Russian Federation ',\n",
       " 'United States ',\n",
       " 'India ',\n",
       " 'Ukraine ',\n",
       " 'FIDE ',\n",
       " 'China ',\n",
       " 'Germany ',\n",
       " 'Armenia ',\n",
       " 'France ',\n",
       " 'Azerbaijan ',\n",
       " 'Spain ',\n",
       " 'Netherlands ']"
      ]
     },
     "execution_count": 61,
     "metadata": {},
     "output_type": "execute_result"
    }
   ],
   "source": [
    "# getting a df of the top 12 most common federations\n",
    "top12 = df[\"federation \"].value_counts()[:12]\n",
    "top12 = list(top12.index)\n",
    "top12\n"
   ]
  },
  {
   "cell_type": "code",
   "execution_count": 63,
   "metadata": {},
   "outputs": [
    {
     "data": {
      "text/html": [
       "<div>\n",
       "<style scoped>\n",
       "    .dataframe tbody tr th:only-of-type {\n",
       "        vertical-align: middle;\n",
       "    }\n",
       "\n",
       "    .dataframe tbody tr th {\n",
       "        vertical-align: top;\n",
       "    }\n",
       "\n",
       "    .dataframe thead th {\n",
       "        text-align: right;\n",
       "    }\n",
       "</style>\n",
       "<table border=\"1\" class=\"dataframe\">\n",
       "  <thead>\n",
       "    <tr style=\"text-align: right;\">\n",
       "      <th></th>\n",
       "      <th>rank</th>\n",
       "      <th>name</th>\n",
       "      <th>ELO</th>\n",
       "      <th>title</th>\n",
       "      <th>federation</th>\n",
       "      <th>games</th>\n",
       "      <th>birth_year</th>\n",
       "    </tr>\n",
       "  </thead>\n",
       "  <tbody>\n",
       "    <tr>\n",
       "      <th>1</th>\n",
       "      <td>2</td>\n",
       "      <td>Liren Ding</td>\n",
       "      <td>2806</td>\n",
       "      <td>GM</td>\n",
       "      <td>China</td>\n",
       "      <td>1630</td>\n",
       "      <td>1992</td>\n",
       "    </tr>\n",
       "    <tr>\n",
       "      <th>2</th>\n",
       "      <td>3</td>\n",
       "      <td>Alireza Firouzja</td>\n",
       "      <td>2793</td>\n",
       "      <td>GM</td>\n",
       "      <td>France</td>\n",
       "      <td>845</td>\n",
       "      <td>2003</td>\n",
       "    </tr>\n",
       "    <tr>\n",
       "      <th>3</th>\n",
       "      <td>4</td>\n",
       "      <td>Fabiano Caruana</td>\n",
       "      <td>2783</td>\n",
       "      <td>GM</td>\n",
       "      <td>United States</td>\n",
       "      <td>2622</td>\n",
       "      <td>1992</td>\n",
       "    </tr>\n",
       "    <tr>\n",
       "      <th>4</th>\n",
       "      <td>5</td>\n",
       "      <td>Levon Aronian</td>\n",
       "      <td>2775</td>\n",
       "      <td>GM</td>\n",
       "      <td>United States</td>\n",
       "      <td>3320</td>\n",
       "      <td>1982</td>\n",
       "    </tr>\n",
       "    <tr>\n",
       "      <th>5</th>\n",
       "      <td>6</td>\n",
       "      <td>Wesley So</td>\n",
       "      <td>2773</td>\n",
       "      <td>GM</td>\n",
       "      <td>United States</td>\n",
       "      <td>1902</td>\n",
       "      <td>1993</td>\n",
       "    </tr>\n",
       "    <tr>\n",
       "      <th>...</th>\n",
       "      <td>...</td>\n",
       "      <td>...</td>\n",
       "      <td>...</td>\n",
       "      <td>...</td>\n",
       "      <td>...</td>\n",
       "      <td>...</td>\n",
       "      <td>...</td>\n",
       "    </tr>\n",
       "    <tr>\n",
       "      <th>192</th>\n",
       "      <td>193</td>\n",
       "      <td>Max Warmerdam</td>\n",
       "      <td>2610</td>\n",
       "      <td>GM</td>\n",
       "      <td>Netherlands</td>\n",
       "      <td>421</td>\n",
       "      <td>2000</td>\n",
       "    </tr>\n",
       "    <tr>\n",
       "      <th>193</th>\n",
       "      <td>194</td>\n",
       "      <td>David Baramidze</td>\n",
       "      <td>2609</td>\n",
       "      <td>GM</td>\n",
       "      <td>Germany</td>\n",
       "      <td>1123</td>\n",
       "      <td>1988</td>\n",
       "    </tr>\n",
       "    <tr>\n",
       "      <th>194</th>\n",
       "      <td>195</td>\n",
       "      <td>Christian Bauer</td>\n",
       "      <td>2609</td>\n",
       "      <td>GM</td>\n",
       "      <td>France</td>\n",
       "      <td>2092</td>\n",
       "      <td>1977</td>\n",
       "    </tr>\n",
       "    <tr>\n",
       "      <th>196</th>\n",
       "      <td>197</td>\n",
       "      <td>Chithambaram VR Aravindh</td>\n",
       "      <td>2608</td>\n",
       "      <td>GM</td>\n",
       "      <td>India</td>\n",
       "      <td>535</td>\n",
       "      <td>1999</td>\n",
       "    </tr>\n",
       "    <tr>\n",
       "      <th>198</th>\n",
       "      <td>199</td>\n",
       "      <td>Surya Shekhar Ganguly</td>\n",
       "      <td>2608</td>\n",
       "      <td>GM</td>\n",
       "      <td>India</td>\n",
       "      <td>1811</td>\n",
       "      <td>1983</td>\n",
       "    </tr>\n",
       "  </tbody>\n",
       "</table>\n",
       "<p>139 rows × 7 columns</p>\n",
       "</div>"
      ],
      "text/plain": [
       "     rank                       name   ELO  title     federation   games  \\\n",
       "1        2                Liren Ding   2806    GM          China    1630   \n",
       "2        3          Alireza Firouzja   2793    GM         France     845   \n",
       "3        4            Fabiano Caruana  2783    GM  United States    2622   \n",
       "4        5             Levon Aronian   2775    GM  United States    3320   \n",
       "5        6                 Wesley So   2773    GM  United States    1902   \n",
       "..     ...                        ...   ...   ...             ...    ...   \n",
       "192    193             Max Warmerdam   2610    GM    Netherlands     421   \n",
       "193    194           David Baramidze   2609    GM        Germany    1123   \n",
       "194    195           Christian Bauer   2609    GM         France    2092   \n",
       "196    197  Chithambaram VR Aravindh   2608    GM          India     535   \n",
       "198    199     Surya Shekhar Ganguly   2608    GM          India    1811   \n",
       "\n",
       "     birth_year  \n",
       "1          1992  \n",
       "2          2003  \n",
       "3          1992  \n",
       "4          1982  \n",
       "5          1993  \n",
       "..          ...  \n",
       "192        2000  \n",
       "193        1988  \n",
       "194        1977  \n",
       "196        1999  \n",
       "198        1983  \n",
       "\n",
       "[139 rows x 7 columns]"
      ]
     },
     "execution_count": 63,
     "metadata": {},
     "output_type": "execute_result"
    }
   ],
   "source": [
    "top12_df = df.loc[df[\"federation \"].isin(top12)]\n",
    "top12_df"
   ]
  },
  {
   "cell_type": "code",
   "execution_count": 69,
   "id": "0fc4e9fc",
   "metadata": {},
   "outputs": [
    {
     "data": {
      "text/plain": [
       "<AxesSubplot:>"
      ]
     },
     "execution_count": 69,
     "metadata": {},
     "output_type": "execute_result"
    },
    {
     "data": {
      "image/png": "[encoded data removed]",
      "text/plain": [
       "<Figure size 1440x720 with 1 Axes>"
      ]
     },
     "metadata": {
      "needs_background": "light"
     },
     "output_type": "display_data"
    }
   ],
   "source": [
    "top12_df[\"federation \"].hist(figsize=(20,10))"
   ]
  },
  {
   "cell_type": "markdown",
   "id": "51c73087",
   "metadata": {},
   "source": [
    "## Create a scatter plot of games vs rating"
   ]
  }
 ],
 "metadata": {
  "kernelspec": {
   "display_name": "Python 3.9.4 64-bit",
   "language": "python",
   "name": "python3"
  },
  "language_info": {
   "codemirror_mode": {
    "name": "ipython",
    "version": 3
   },
   "file_extension": ".py",
   "mimetype": "text/x-python",
   "name": "python",
   "nbconvert_exporter": "python",
   "pygments_lexer": "ipython3",
   "version": "3.9.4"
  },
  "vscode": {
   "interpreter": {
    "hash": "09cd7a4f969d2ad8792d645d076315f55c94d3977407f85687fca56e114cf945"
   }
  }
 },
 "nbformat": 4,
 "nbformat_minor": 5
}
